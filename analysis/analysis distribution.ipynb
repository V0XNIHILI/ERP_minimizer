{
 "cells": [
  {
   "cell_type": "code",
   "execution_count": 3,
   "metadata": {},
   "outputs": [],
   "source": [
    "import pickle\n",
    "import json\n",
    "\n",
    "import numpy as np\n",
    "import pandas as pd\n",
    "from sklearn import preprocessing, metrics, utils, decomposition, model_selection, linear_model, discriminant_analysis, svm, tree, ensemble\n",
    "\n",
    "from skopt import BayesSearchCV\n",
    "from skopt.space import Real, Categorical, Integer\n",
    "\n",
    "import matplotlib.pyplot as plt\n"
   ]
  },
  {
   "cell_type": "code",
   "execution_count": 4,
   "metadata": {},
   "outputs": [],
   "source": [
    "data = None\n",
    "\n",
    "with open('full_factorial/all_experiments_full_factorial.pickle', 'rb') as f:\n",
    "    data = pickle.load(f)"
   ]
  },
  {
   "cell_type": "code",
   "execution_count": 5,
   "metadata": {},
   "outputs": [],
   "source": [
    "configs = None\n",
    "\n",
    "with open('full_factorial/experiment_data_with_id_full_factorial.json') as f:\n",
    "    configs = json.load(f)"
   ]
  },
  {
   "cell_type": "code",
   "execution_count": 6,
   "metadata": {},
   "outputs": [],
   "source": [
    "configs_df = pd.read_csv('full_factorial/full_factorial_configs_as_df.csv')\n"
   ]
  },
  {
   "cell_type": "markdown",
   "metadata": {},
   "source": [
    "## Actual analysis"
   ]
  },
  {
   "cell_type": "markdown",
   "metadata": {},
   "source": [
    "### Power calculation"
   ]
  },
  {
   "cell_type": "code",
   "execution_count": 7,
   "metadata": {},
   "outputs": [
    {
     "data": {
      "text/plain": [
       "12.033333333333335"
      ]
     },
     "execution_count": 7,
     "metadata": {},
     "output_type": "execute_result"
    }
   ],
   "source": [
    "# TDP/core\n",
    "\n",
    "# Skylake, Broadwell, Haswell, AMD EPYC Rome, and AMD EPYC Milan\n",
    "# 6700: 65/4, 5775c: 65/8, 4770:  84/4, EPYC 7352: 155/24, EPYC 7443: 200/24\n",
    "\n",
    "tdp_per_core = sum([65/4, 65/8, 84/4, 155/24, 200/24]) / 5\n",
    "\n",
    "tdp_per_core"
   ]
  },
  {
   "cell_type": "markdown",
   "metadata": {},
   "source": [
    "### Plot loaded data"
   ]
  },
  {
   "cell_type": "code",
   "execution_count": 8,
   "metadata": {},
   "outputs": [],
   "source": [
    "columns_to_plot = list(data[list(data.keys())[0]].columns)"
   ]
  },
  {
   "cell_type": "markdown",
   "metadata": {},
   "source": [
    "### Setup"
   ]
  },
  {
   "cell_type": "code",
   "execution_count": 9,
   "metadata": {},
   "outputs": [],
   "source": [
    "def prepare_data(X, y):\n",
    "    X_train, X_test, y_train, y_test = model_selection.train_test_split(X, y, test_size=0.3, random_state=42)\n",
    "\n",
    "    scaler = preprocessing.StandardScaler().fit(X, y)\n",
    "\n",
    "    # ... and scale the features\n",
    "    X_train_scaled = scaler.transform(X_train)\n",
    "    X_test_scaled = scaler.transform(X_test)\n",
    "\n",
    "    return X_train_scaled, X_test_scaled, y_train, y_test"
   ]
  },
  {
   "cell_type": "code",
   "execution_count": 10,
   "metadata": {},
   "outputs": [],
   "source": [
    "from re import X\n",
    "\n",
    "\n",
    "CNN = \"Cifar10CNN\" # Cifar10ResNet\n",
    "ResNet = \"Cifar10ResNet\"\n",
    "\n",
    "network_data_CNN = configs_df[configs_df['model'] == CNN]\n",
    "network_data_ResNet = configs_df[configs_df['model'] == ResNet]\n",
    "network_data_combined = configs_df\n",
    "\n"
   ]
  },
  {
   "cell_type": "code",
   "execution_count": 53,
   "metadata": {},
   "outputs": [],
   "source": [
    "# UPDATE HERE THE COLUMNS YOU WANT TO USE FOR THE FITTING\n",
    "X_CNN = network_data_CNN[[\n",
    "    # 'model',\n",
    "#  'batch_size',\n",
    "#  'test_batch_size',\n",
    " 'Paralell',\n",
    "#  'Memory',\n",
    " 'CPU',\n",
    " ]]\n",
    "\n",
    "X_ResNet = network_data_ResNet[[\n",
    "    # 'model',\n",
    "#  'batch_size',\n",
    "#  'test_batch_size',\n",
    " 'Paralell',\n",
    "#  'Memory',\n",
    " 'CPU',\n",
    " ]]\n",
    "\n",
    "X_combined = network_data_combined[[\n",
    "    'model',\n",
    "#  'batch_size',\n",
    "#  'test_batch_size',\n",
    " 'Paralell',\n",
    "#  'Memory',\n",
    " 'CPU',\n",
    " ]]\n",
    "\n",
    "maskCNN = X_combined.model == 'Cifar10CNN'\n",
    "maskResNet = X_combined.model == 'Cifar10ResNet'\n",
    "X_combined.loc[maskCNN, 'model'] = 1\n",
    "X_combined.loc[maskResNet, 'model'] = 2\n",
    "\n",
    "# UPDATE HERE THE COLUMN THAT YOU WANT TO PREDICT\n",
    "y_CNN = network_data_CNN['mean train latency per epoch'] + network_data_CNN['mean test latency per epoch']  #Sum of latencies is service time\n",
    "y_ResNet = network_data_ResNet['mean train latency per epoch'] + network_data_ResNet['mean test latency per epoch']  #Sum of latencies is service time\n",
    "y_combined = network_data_combined['mean train latency per epoch'] + network_data_combined['mean test latency per epoch']  #Sum of latencies is service time\n",
    "\n",
    "# y_CNN = network_data_CNN['mean cpu usage per epoch']\n",
    "# y_ResNet = network_data_ResNet['mean cpu usage per epoch'] \n",
    "# y_combined = network_data_combined['mean cpu usage per epoch']"
   ]
  },
  {
   "cell_type": "code",
   "execution_count": 54,
   "metadata": {},
   "outputs": [
    {
     "data": {
      "image/png": "[encoded data removed]",
      "text/plain": [
       "<Figure size 640x480 with 1 Axes>"
      ]
     },
     "metadata": {},
     "output_type": "display_data"
    }
   ],
   "source": [
    "fig, ax = plt.subplots()\n",
    "bins = 10*(np.arange(0,10))\n",
    "ax.hist(y_combined, density=False, bins=30)\n",
    "ax.set_xlabel('Service time in ms')\n",
    "ax.set_ylabel('Count')\n",
    "# plt.savefig(\"histrogram_servicetime.pdf\")\n",
    "plt.show()\n",
    "# plt.hist(y_CNN, density=False, bins=30, label=\"CPU utilization %\")\n",
    "# plt.hist(y_ResNet, density=False, bins=30, label=\"CPU utilization %\")\n"
   ]
  }
 ],
 "metadata": {
  "kernelspec": {
   "display_name": "Python 3.8.10 64-bit",
   "language": "python",
   "name": "python3"
  },
  "language_info": {
   "codemirror_mode": {
    "name": "ipython",
    "version": 3
   },
   "file_extension": ".py",
   "mimetype": "text/x-python",
   "name": "python",
   "nbconvert_exporter": "python",
   "pygments_lexer": "ipython3",
   "version": "3.8.10"
  },
  "orig_nbformat": 4,
  "vscode": {
   "interpreter": {
    "hash": "916dbcbb3f70747c44a77c7bcd40155683ae19c65e1c03b4aa3499c5328201f1"
   }
  }
 },
 "nbformat": 4,
 "nbformat_minor": 2
}
